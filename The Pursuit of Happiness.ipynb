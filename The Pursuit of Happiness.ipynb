{
 "cells": [
  {
   "cell_type": "markdown",
   "metadata": {},
   "source": [
    "# The Pursuit of Happiness - Where does Social Media Lie"
   ]
  },
  {
   "cell_type": "markdown",
   "metadata": {},
   "source": [
    "Those of us who saw the movie - The Pursuit of Happiness succintly agree about how it moved us to tears. The storyline was compelling and enhanced by Will Smith's brilliant acting skills. As much as I was touched by the movie, the title left an even larger impression on me. Afterall, the pursuit or search for happiness is the main goal for most of mankind. Countless studies have been done on the topic of happiness. Determining the essence of happiness itself is a big problem - happiness is largely subjective and the experience of it is known to vary from person to person. The sight of a sparrow in my busy town of Mumbai brought me a lot of happiness while to those living in the countryside, it might not have produced the same effect. \n",
    "\n",
    "Research has established a few factors that affect happiness - personality, wealth, health, family, security and a stable government (Magnus and Diener 1991). However, in today's social media driven world, it might be time to revisit the factors affecting happiness and see where social media fits in the picture. WIth advances in technology, the way in which we communicate today has rapidly changed. So much so that researchers coined the term - Social Media Boom in the 21'st century (Abbas and Singh 2014, 148) to describe it. Facebook, Instagram and Twitter are now playing an active role in the millenial generation and this has sparked a debate about its effects on the mental health of the people using it. This report aims to aaddress this question in a small way. Specifically, it tries to understand if social media affects reported happiness of users."
   ]
  },
  {
   "cell_type": "markdown",
   "metadata": {},
   "source": [
    "## The Question\n",
    "\n",
    "Based on all the research on social media's role in today's world, it would be easy to believe that it would play a significant role in people's lives. \n",
    "\n",
    "H0\n"
   ]
  },
  {
   "cell_type": "code",
   "execution_count": null,
   "metadata": {},
   "outputs": [],
   "source": []
  },
  {
   "cell_type": "code",
   "execution_count": null,
   "metadata": {},
   "outputs": [],
   "source": []
  },
  {
   "cell_type": "code",
   "execution_count": null,
   "metadata": {},
   "outputs": [],
   "source": []
  },
  {
   "cell_type": "code",
   "execution_count": null,
   "metadata": {},
   "outputs": [],
   "source": []
  },
  {
   "cell_type": "markdown",
   "metadata": {},
   "source": [
    "## References\n",
    "https://worlddatabaseofhappiness.eur.nl/hap_bib/freetexts/magnus_k_1991.pdf"
   ]
  }
 ],
 "metadata": {
  "kernelspec": {
   "display_name": "Python 3",
   "language": "python",
   "name": "python3"
  },
  "language_info": {
   "codemirror_mode": {
    "name": "ipython",
    "version": 3
   },
   "file_extension": ".py",
   "mimetype": "text/x-python",
   "name": "python",
   "nbconvert_exporter": "python",
   "pygments_lexer": "ipython3",
   "version": "3.6.4"
  }
 },
 "nbformat": 4,
 "nbformat_minor": 2
}
