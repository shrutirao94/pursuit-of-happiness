{
 "cells": [
  {
   "cell_type": "markdown",
   "metadata": {},
   "source": [
    "# The Pursuit of Happiness - Where does Social Media Lie"
   ]
  },
  {
   "cell_type": "markdown",
   "metadata": {},
   "source": [
    "Those of us who saw the movie - The Pursuit of Happiness succintly agree about how it moved us to tears. The storyline was compelling and enhanced by Will Smith's brilliant acting skills. As much as I was touched by the movie, the title left an even larger impression on me. Afterall, the pursuit or search for happiness is the main goal for most of mankind. Countless studies have been done on the topic of happiness. Determining the essence of happiness itself is a big problem - happiness is largely subjective and the experience of it is known to vary from person to person. The sight of a sparrow in my busy town of Mumbai brought me a lot of happiness while to those living in the countryside, it might not have produced the same effect. \n",
    "\n",
    "Research has established a few factors that affect happiness - personality, wealth, health, family, security and a stable government (Magnus and Diener 1991). However, in today's social media driven world, it might be time to revisit the factors affecting happiness and see where social media fits in the picture. WIth advances in technology, the way in which we communicate today has rapidly changed. So much so that researchers coined the term - Social Media Boom in the 21'st century (Abbas and Singh 2014, 148) to describe it. Facebook, Instagram and Twitter are now playing an active role in the millenial generation and this has sparked a debate about its effects on the mental health of the people using it. This report aims to aaddress this question in a small way. Specifically, it tries to understand if social media affects reported happiness of users."
   ]
  },
  {
   "cell_type": "markdown",
   "metadata": {},
   "source": [
    "## The Question\n",
    "\n",
    "It is researched that the happiness of a person depends on the social density among other factors. Social density here refers to the number of friends they have and the amount they interact. In today's social media driven world, most of these social circles have been driven to the social space. It would only be the next natural step to ask if the social density of a person on the internet also affects thier happiness (Burt 1986, 2)\n",
    "\n",
    "H_o_: Social media has an effect on the happiness level \n",
    "\n",
    "H_a_: Social media has no effect on the happiness level"
   ]
  },
  {
   "cell_type": "markdown",
   "metadata": {},
   "source": [
    "## The Data:"
   ]
  },
  {
   "cell_type": "code",
   "execution_count": 122,
   "metadata": {},
   "outputs": [],
   "source": [
    "import pandas as pd\n",
    "import numpy as np\n",
    "import seaborn as sns\n",
    "import matplotlib.pyplot as plt\n",
    "\n",
    "% matplotlib inline"
   ]
  },
  {
   "cell_type": "code",
   "execution_count": 123,
   "metadata": {},
   "outputs": [
    {
     "data": {
      "text/html": [
       "<div>\n",
       "<style scoped>\n",
       "    .dataframe tbody tr th:only-of-type {\n",
       "        vertical-align: middle;\n",
       "    }\n",
       "\n",
       "    .dataframe tbody tr th {\n",
       "        vertical-align: top;\n",
       "    }\n",
       "\n",
       "    .dataframe thead th {\n",
       "        text-align: right;\n",
       "    }\n",
       "</style>\n",
       "<table border=\"1\" class=\"dataframe\">\n",
       "  <thead>\n",
       "    <tr style=\"text-align: right;\">\n",
       "      <th></th>\n",
       "      <th>Gss year for this respondent</th>\n",
       "      <th>Use googlesn</th>\n",
       "      <th>Use pinterst</th>\n",
       "      <th>Use flickr</th>\n",
       "      <th>Use vine</th>\n",
       "      <th>Use clssmtes</th>\n",
       "      <th>Do you use any other social networks</th>\n",
       "      <th>First other social network</th>\n",
       "      <th>Second other social network</th>\n",
       "      <th>Third other social network</th>\n",
       "      <th>...</th>\n",
       "      <th>Ballot used for interview</th>\n",
       "      <th>Use internet/apps more than occassionally</th>\n",
       "      <th>Use internet/apps from phone or tablet</th>\n",
       "      <th>Used internet/apps yesterday</th>\n",
       "      <th>Use twitter</th>\n",
       "      <th>Use facebook</th>\n",
       "      <th>Use instagrm</th>\n",
       "      <th>Use linkedin</th>\n",
       "      <th>Use snapchat</th>\n",
       "      <th>Hours of internet use on weekends</th>\n",
       "    </tr>\n",
       "  </thead>\n",
       "  <tbody>\n",
       "    <tr>\n",
       "      <th>0</th>\n",
       "      <td>2016</td>\n",
       "      <td>Not applicable</td>\n",
       "      <td>Not applicable</td>\n",
       "      <td>Not applicable</td>\n",
       "      <td>Not applicable</td>\n",
       "      <td>Not applicable</td>\n",
       "      <td>Not applicable</td>\n",
       "      <td>Not applicable</td>\n",
       "      <td>Not applicable</td>\n",
       "      <td>Not applicable</td>\n",
       "      <td>...</td>\n",
       "      <td>Ballot a</td>\n",
       "      <td>Not applicable</td>\n",
       "      <td>Not applicable</td>\n",
       "      <td>Not applicable</td>\n",
       "      <td>Not applicable</td>\n",
       "      <td>Not applicable</td>\n",
       "      <td>Not applicable</td>\n",
       "      <td>Not applicable</td>\n",
       "      <td>Not applicable</td>\n",
       "      <td>Not applicable</td>\n",
       "    </tr>\n",
       "    <tr>\n",
       "      <th>1</th>\n",
       "      <td>2016</td>\n",
       "      <td>No</td>\n",
       "      <td>No</td>\n",
       "      <td>No</td>\n",
       "      <td>No</td>\n",
       "      <td>No</td>\n",
       "      <td>No</td>\n",
       "      <td>Not applicable</td>\n",
       "      <td>Not applicable</td>\n",
       "      <td>Not applicable</td>\n",
       "      <td>...</td>\n",
       "      <td>Ballot b</td>\n",
       "      <td>Yes</td>\n",
       "      <td>Yes</td>\n",
       "      <td>Yes, used internet yesterday</td>\n",
       "      <td>No</td>\n",
       "      <td>No</td>\n",
       "      <td>No</td>\n",
       "      <td>No</td>\n",
       "      <td>No</td>\n",
       "      <td>Not applicable</td>\n",
       "    </tr>\n",
       "    <tr>\n",
       "      <th>2</th>\n",
       "      <td>2016</td>\n",
       "      <td>No</td>\n",
       "      <td>No</td>\n",
       "      <td>No</td>\n",
       "      <td>No</td>\n",
       "      <td>No</td>\n",
       "      <td>No</td>\n",
       "      <td>Not applicable</td>\n",
       "      <td>Not applicable</td>\n",
       "      <td>Not applicable</td>\n",
       "      <td>...</td>\n",
       "      <td>Ballot c</td>\n",
       "      <td>Yes</td>\n",
       "      <td>No</td>\n",
       "      <td>Yes, used internet yesterday</td>\n",
       "      <td>No</td>\n",
       "      <td>No</td>\n",
       "      <td>No</td>\n",
       "      <td>No</td>\n",
       "      <td>No</td>\n",
       "      <td>Not applicable</td>\n",
       "    </tr>\n",
       "    <tr>\n",
       "      <th>3</th>\n",
       "      <td>2016</td>\n",
       "      <td>Not applicable</td>\n",
       "      <td>Not applicable</td>\n",
       "      <td>Not applicable</td>\n",
       "      <td>Not applicable</td>\n",
       "      <td>Not applicable</td>\n",
       "      <td>Not applicable</td>\n",
       "      <td>Not applicable</td>\n",
       "      <td>Not applicable</td>\n",
       "      <td>Not applicable</td>\n",
       "      <td>...</td>\n",
       "      <td>Ballot a</td>\n",
       "      <td>Not applicable</td>\n",
       "      <td>Not applicable</td>\n",
       "      <td>Not applicable</td>\n",
       "      <td>Not applicable</td>\n",
       "      <td>Not applicable</td>\n",
       "      <td>Not applicable</td>\n",
       "      <td>Not applicable</td>\n",
       "      <td>Not applicable</td>\n",
       "      <td>Not applicable</td>\n",
       "    </tr>\n",
       "    <tr>\n",
       "      <th>4</th>\n",
       "      <td>2016</td>\n",
       "      <td>Yes</td>\n",
       "      <td>No</td>\n",
       "      <td>No</td>\n",
       "      <td>No</td>\n",
       "      <td>No</td>\n",
       "      <td>No</td>\n",
       "      <td>Not applicable</td>\n",
       "      <td>Not applicable</td>\n",
       "      <td>Not applicable</td>\n",
       "      <td>...</td>\n",
       "      <td>Ballot c</td>\n",
       "      <td>Yes</td>\n",
       "      <td>Yes</td>\n",
       "      <td>Yes, used internet yesterday</td>\n",
       "      <td>No</td>\n",
       "      <td>No</td>\n",
       "      <td>Yes</td>\n",
       "      <td>Yes</td>\n",
       "      <td>Yes</td>\n",
       "      <td>1</td>\n",
       "    </tr>\n",
       "  </tbody>\n",
       "</table>\n",
       "<p>5 rows × 32 columns</p>\n",
       "</div>"
      ],
      "text/plain": [
       "  Gss year for this respondent                           Use googlesn  \\\n",
       "0                                               2016   Not applicable   \n",
       "1                                               2016               No   \n",
       "2                                               2016               No   \n",
       "3                                               2016   Not applicable   \n",
       "4                                               2016              Yes   \n",
       "\n",
       "     Use pinterst      Use flickr        Use vine    Use clssmtes  \\\n",
       "0  Not applicable  Not applicable  Not applicable  Not applicable   \n",
       "1              No              No              No              No   \n",
       "2              No              No              No              No   \n",
       "3  Not applicable  Not applicable  Not applicable  Not applicable   \n",
       "4              No              No              No              No   \n",
       "\n",
       "  Do you use any other social networks First other social network  \\\n",
       "0                       Not applicable             Not applicable   \n",
       "1                                   No             Not applicable   \n",
       "2                                   No             Not applicable   \n",
       "3                       Not applicable             Not applicable   \n",
       "4                                   No             Not applicable   \n",
       "\n",
       "  Second other social network Third other social network  \\\n",
       "0              Not applicable             Not applicable   \n",
       "1              Not applicable             Not applicable   \n",
       "2              Not applicable             Not applicable   \n",
       "3              Not applicable             Not applicable   \n",
       "4              Not applicable             Not applicable   \n",
       "\n",
       "                 ...                Ballot used for interview  \\\n",
       "0                ...                                 Ballot a   \n",
       "1                ...                                 Ballot b   \n",
       "2                ...                                 Ballot c   \n",
       "3                ...                                 Ballot a   \n",
       "4                ...                                 Ballot c   \n",
       "\n",
       "  Use internet/apps more than occassionally  \\\n",
       "0                            Not applicable   \n",
       "1                                       Yes   \n",
       "2                                       Yes   \n",
       "3                            Not applicable   \n",
       "4                                       Yes   \n",
       "\n",
       "  Use internet/apps from phone or tablet  Used internet/apps yesterday  \\\n",
       "0                         Not applicable                Not applicable   \n",
       "1                                    Yes  Yes, used internet yesterday   \n",
       "2                                     No  Yes, used internet yesterday   \n",
       "3                         Not applicable                Not applicable   \n",
       "4                                    Yes  Yes, used internet yesterday   \n",
       "\n",
       "      Use twitter    Use facebook    Use instagrm    Use linkedin  \\\n",
       "0  Not applicable  Not applicable  Not applicable  Not applicable   \n",
       "1              No              No              No              No   \n",
       "2              No              No              No              No   \n",
       "3  Not applicable  Not applicable  Not applicable  Not applicable   \n",
       "4              No              No             Yes             Yes   \n",
       "\n",
       "     Use snapchat Hours of internet use on weekends  \n",
       "0  Not applicable                    Not applicable  \n",
       "1              No                    Not applicable  \n",
       "2              No                    Not applicable  \n",
       "3  Not applicable                    Not applicable  \n",
       "4             Yes                                 1  \n",
       "\n",
       "[5 rows x 32 columns]"
      ]
     },
     "execution_count": 123,
     "metadata": {},
     "output_type": "execute_result"
    }
   ],
   "source": [
    "data = pd.read_csv('data.csv')\n",
    "data.head()"
   ]
  },
  {
   "cell_type": "markdown",
   "metadata": {},
   "source": [
    "## Data Description"
   ]
  },
  {
   "cell_type": "markdown",
   "metadata": {},
   "source": [
    "For this research, the data is taken from the General Social Survey (GSS). The General Social Survey (GSS) has studied the growing complexity of American society and collected data on the same. It is the only full-probability, personal-interview survey designed to monitor changes in both social characteristics and attitudes currently being conducted in the United States (GSS website 2018). The dataset...(describe the source)\n"
   ]
  },
  {
   "cell_type": "code",
   "execution_count": 124,
   "metadata": {},
   "outputs": [],
   "source": [
    "data = data.drop(['Gss year for this respondent                       ', 'Do you use any other social networks'\n",
    "           , 'First other social network','Second other social network', 'Third other social network'\n",
    "           , 'Minutes of internet use on weekends','Respondent id number','Ballot used for interview'\n",
    "           ,'Use internet/apps more than occassionally','Use internet/apps from phone or tablet'\n",
    "           , 'Used internet/apps yesterday','Which social network did you join most recently'\n",
    "           , 'Which social network did you join first', 'Minutes of internet use on weekdays'], axis =1)"
   ]
  },
  {
   "cell_type": "code",
   "execution_count": 125,
   "metadata": {},
   "outputs": [
    {
     "data": {
      "text/html": [
       "<div>\n",
       "<style scoped>\n",
       "    .dataframe tbody tr th:only-of-type {\n",
       "        vertical-align: middle;\n",
       "    }\n",
       "\n",
       "    .dataframe tbody tr th {\n",
       "        vertical-align: top;\n",
       "    }\n",
       "\n",
       "    .dataframe thead th {\n",
       "        text-align: right;\n",
       "    }\n",
       "</style>\n",
       "<table border=\"1\" class=\"dataframe\">\n",
       "  <thead>\n",
       "    <tr style=\"text-align: right;\">\n",
       "      <th></th>\n",
       "      <th>Use googlesn</th>\n",
       "      <th>Use pinterst</th>\n",
       "      <th>Use flickr</th>\n",
       "      <th>Use vine</th>\n",
       "      <th>Use clssmtes</th>\n",
       "      <th>Hours of internet use on weekdays</th>\n",
       "      <th>Use whatsapp</th>\n",
       "      <th>Use tumblr</th>\n",
       "      <th>General happiness</th>\n",
       "      <th>Happiness of marriage</th>\n",
       "      <th>How happy r is</th>\n",
       "      <th>Happy or unhappy with life today</th>\n",
       "      <th>Use twitter</th>\n",
       "      <th>Use facebook</th>\n",
       "      <th>Use instagrm</th>\n",
       "      <th>Use linkedin</th>\n",
       "      <th>Use snapchat</th>\n",
       "      <th>Hours of internet use on weekends</th>\n",
       "    </tr>\n",
       "  </thead>\n",
       "  <tbody>\n",
       "    <tr>\n",
       "      <th>count</th>\n",
       "      <td>2868</td>\n",
       "      <td>2867</td>\n",
       "      <td>2867</td>\n",
       "      <td>2867</td>\n",
       "      <td>2867</td>\n",
       "      <td>2867</td>\n",
       "      <td>2867</td>\n",
       "      <td>2867</td>\n",
       "      <td>2867</td>\n",
       "      <td>2867</td>\n",
       "      <td>2867</td>\n",
       "      <td>2867</td>\n",
       "      <td>2867</td>\n",
       "      <td>2867</td>\n",
       "      <td>2867</td>\n",
       "      <td>2867</td>\n",
       "      <td>2867</td>\n",
       "      <td>2867</td>\n",
       "    </tr>\n",
       "    <tr>\n",
       "      <th>unique</th>\n",
       "      <td>5</td>\n",
       "      <td>4</td>\n",
       "      <td>4</td>\n",
       "      <td>4</td>\n",
       "      <td>4</td>\n",
       "      <td>22</td>\n",
       "      <td>4</td>\n",
       "      <td>4</td>\n",
       "      <td>5</td>\n",
       "      <td>6</td>\n",
       "      <td>1</td>\n",
       "      <td>1</td>\n",
       "      <td>4</td>\n",
       "      <td>4</td>\n",
       "      <td>4</td>\n",
       "      <td>4</td>\n",
       "      <td>4</td>\n",
       "      <td>21</td>\n",
       "    </tr>\n",
       "    <tr>\n",
       "      <th>top</th>\n",
       "      <td>Not applicable</td>\n",
       "      <td>Not applicable</td>\n",
       "      <td>Not applicable</td>\n",
       "      <td>Not applicable</td>\n",
       "      <td>Not applicable</td>\n",
       "      <td>Not applicable</td>\n",
       "      <td>Not applicable</td>\n",
       "      <td>Not applicable</td>\n",
       "      <td>Pretty happy</td>\n",
       "      <td>Not applicable</td>\n",
       "      <td>Not applicable</td>\n",
       "      <td>Not applicable</td>\n",
       "      <td>Not applicable</td>\n",
       "      <td>Not applicable</td>\n",
       "      <td>Not applicable</td>\n",
       "      <td>Not applicable</td>\n",
       "      <td>Not applicable</td>\n",
       "      <td>Not applicable</td>\n",
       "    </tr>\n",
       "    <tr>\n",
       "      <th>freq</th>\n",
       "      <td>1483</td>\n",
       "      <td>1483</td>\n",
       "      <td>1483</td>\n",
       "      <td>1483</td>\n",
       "      <td>1483</td>\n",
       "      <td>1630</td>\n",
       "      <td>1483</td>\n",
       "      <td>1483</td>\n",
       "      <td>1601</td>\n",
       "      <td>1654</td>\n",
       "      <td>2867</td>\n",
       "      <td>2867</td>\n",
       "      <td>1483</td>\n",
       "      <td>1483</td>\n",
       "      <td>1483</td>\n",
       "      <td>1483</td>\n",
       "      <td>1483</td>\n",
       "      <td>1630</td>\n",
       "    </tr>\n",
       "  </tbody>\n",
       "</table>\n",
       "</div>"
      ],
      "text/plain": [
       "          Use googlesn    Use pinterst      Use flickr        Use vine  \\\n",
       "count             2868            2867            2867            2867   \n",
       "unique               5               4               4               4   \n",
       "top     Not applicable  Not applicable  Not applicable  Not applicable   \n",
       "freq              1483            1483            1483            1483   \n",
       "\n",
       "          Use clssmtes Hours of internet use on weekdays    Use whatsapp  \\\n",
       "count             2867                              2867            2867   \n",
       "unique               4                                22               4   \n",
       "top     Not applicable                    Not applicable  Not applicable   \n",
       "freq              1483                              1630            1483   \n",
       "\n",
       "            Use tumblr General happiness Happiness of marriage  \\\n",
       "count             2867              2867                  2867   \n",
       "unique               4                 5                     6   \n",
       "top     Not applicable      Pretty happy        Not applicable   \n",
       "freq              1483              1601                  1654   \n",
       "\n",
       "        How happy r is Happy or unhappy with life today     Use twitter  \\\n",
       "count             2867                             2867            2867   \n",
       "unique               1                                1               4   \n",
       "top     Not applicable                   Not applicable  Not applicable   \n",
       "freq              2867                             2867            1483   \n",
       "\n",
       "          Use facebook    Use instagrm    Use linkedin    Use snapchat  \\\n",
       "count             2867            2867            2867            2867   \n",
       "unique               4               4               4               4   \n",
       "top     Not applicable  Not applicable  Not applicable  Not applicable   \n",
       "freq              1483            1483            1483            1483   \n",
       "\n",
       "       Hours of internet use on weekends  \n",
       "count                               2867  \n",
       "unique                                21  \n",
       "top                       Not applicable  \n",
       "freq                                1630  "
      ]
     },
     "execution_count": 125,
     "metadata": {},
     "output_type": "execute_result"
    }
   ],
   "source": [
    "data.describe()"
   ]
  },
  {
   "cell_type": "markdown",
   "metadata": {},
   "source": [
    "### Key Variables\n",
    "\n",
    "* `Hours of internet use on weekdays` - This variable states the hours of internet used by the respondent on weekday, on average. This variable can be used to determine if the hours of internet used on the weekdays affect general happiness.\n",
    "\n",
    "* `General happiness` - The question asked to the respondents were \"Taken all together, how would you say things are these days--would you say that you are very happy, pretty happy, or not too happy?\" The general happiness variable is pne of the key variables in this dataset - the dependent variable.\n",
    "\n",
    "* `Happiness of marriage` - The question asked to the respondents was - \"Taking things all together, how would you describe your marriage? Would you say that your marriage is very happy, pretty happy, or not too happy?\" Here, happiness of marriage can be considered a subset of general happiness. Effects of social media can also be examined for its effects on marriage.\n",
    "\n",
    "* `Hours of internet use on weekends` - This variable states the hours of internet used by the respondent on weekends, on average. This variable can be used to determine if the hours of internet used on the weekends affect general happiness. Moreover, do people spend more hours on the internet on the weekend versus the weekdays?\n",
    "\n",
    "* `Use googlesn`, `Use pinterst`, `Use flickr`, `Use vine`, `Use clssmtes`, `Use whatsapp`, `Use tumblr`, `Use twitter`, `Use facebook`\t`Use instagrm`\t`Use linkedin`\t`Use snapchat` - These variables ask the same question - \"Which of the following social networking or social media sites are you a member or regular user of?\" These variables will help with further understanding of the most popular platforms and detect if certain sites cause more or less happiness than others."
   ]
  },
  {
   "cell_type": "markdown",
   "metadata": {},
   "source": [
    "#### Examining `General Happiness`:"
   ]
  },
  {
   "cell_type": "markdown",
   "metadata": {},
   "source": [
    "The variable `General happiness` is ordered and the distribution of responses are shown below in the form of a table and histogram. It is seen that 1601 respondents said that they were _Pretty Happy_. 806 said that they were _Very happy_ but around 452 said that they were _Not too happy_. 5 responses were noted for _no answer_ and 3 people said that they _Dont know_."
   ]
  },
  {
   "cell_type": "code",
   "execution_count": 126,
   "metadata": {},
   "outputs": [
    {
     "data": {
      "text/plain": [
       "Pretty happy     1601\n",
       "Very happy        806\n",
       "Not too happy     452\n",
       "No answer           5\n",
       "Don't know          3\n",
       "Name: General happiness, dtype: int64"
      ]
     },
     "execution_count": 126,
     "metadata": {},
     "output_type": "execute_result"
    }
   ],
   "source": [
    "gen_happiness = data['General happiness'].value_counts()\n",
    "gen_happiness"
   ]
  },
  {
   "cell_type": "code",
   "execution_count": 127,
   "metadata": {
    "scrolled": false
   },
   "outputs": [
    {
     "data": {
      "text/plain": [
       "Text(0,0.5,'Counts of Responses')"
      ]
     },
     "execution_count": 127,
     "metadata": {},
     "output_type": "execute_result"
    },
    {
     "data": {
      "image/png": "[encoded data removed]",
      "text/plain": [
       "<matplotlib.figure.Figure at 0x11d32e1d0>"
      ]
     },
     "metadata": {},
     "output_type": "display_data"
    }
   ],
   "source": [
    "plt.figure(figsize = (7,7))\n",
    "gen_happiness = data['General happiness'].value_counts().plot(kind='bar')\n",
    "plt.title(\"Counts of Responses for General Happiness\")\n",
    "plt.xlabel(\"Reponses\")\n",
    "plt.ylabel(\"Counts of Responses\")"
   ]
  },
  {
   "cell_type": "markdown",
   "metadata": {},
   "source": [
    "#### Examining `Hours of Internet use on Weekdays`:\n",
    "\n",
    "Next, we examine the `Hours of internet use on weekdays` and note that 1630 respondents said that the question was _Not applicable_ to them. This must imply that they did not use the internet at all. This causes some discrepancy with the responses as 150 respondents said that they used the internet for _0_ hours. This confusion could be due to the wording of the answer options available to the respondents. Had _Not Applicable_ not been on the list of possile responses, 1630 might have answered with a _0_. It could also be possible that they did not have any access to the internet but for 2016, that seems very unlikely that the majority would not have internet access. So for the purpose of simplicity, _Not applicable_ gets grouped with _0_. "
   ]
  },
  {
   "cell_type": "code",
   "execution_count": 128,
   "metadata": {
    "scrolled": true
   },
   "outputs": [
    {
     "data": {
      "text/plain": [
       "Not applicable    1630\n",
       "1                  341\n",
       "2                  250\n",
       "0                  150\n",
       "3                  130\n",
       "4                   83\n",
       "5                   64\n",
       "6                   52\n",
       "8                   41\n",
       "10                  30\n",
       "12                  22\n",
       "7                   14\n",
       "9                   12\n",
       "No answer           10\n",
       "15                   9\n",
       "24                   8\n",
       "Don't know           7\n",
       "20                   4\n",
       "14                   4\n",
       "13                   3\n",
       "11                   2\n",
       "16                   1\n",
       "Name: Hours of internet use on weekdays, dtype: int64"
      ]
     },
     "execution_count": 128,
     "metadata": {},
     "output_type": "execute_result"
    }
   ],
   "source": [
    "internet_weekdays = data['Hours of internet use on weekdays'].value_counts()\n",
    "internet_weekdays"
   ]
  },
  {
   "cell_type": "markdown",
   "metadata": {},
   "source": [
    "After adding _Not applicable_ and _0_ together, we see from the table below that 1630 people out of the interviewed 2867 people did not use the internet at all. This is very interesting for a 2016 survey as 56% claim to use no internet during the weekdays. Next, 341 people used internet for an hour but only 1 person used it for over 16 hours."
   ]
  },
  {
   "cell_type": "code",
   "execution_count": 144,
   "metadata": {},
   "outputs": [
    {
     "data": {
      "text/plain": [
       "0             1630\n",
       "1              341\n",
       "2              250\n",
       "0              150\n",
       "3              130\n",
       "4               83\n",
       "5               64\n",
       "6               52\n",
       "8               41\n",
       "10              30\n",
       "12              22\n",
       "7               14\n",
       "9               12\n",
       "No answer       10\n",
       "15               9\n",
       "24               8\n",
       "Don't know       7\n",
       "20               4\n",
       "14               4\n",
       "13               3\n",
       "11               2\n",
       "16               1\n",
       "Name: Hours of internet use on weekdays, dtype: int64"
      ]
     },
     "execution_count": 144,
     "metadata": {},
     "output_type": "execute_result"
    }
   ],
   "source": [
    "data.loc[data['Hours of internet use on weekdays'] == 'Not applicable'] = 0\n",
    "hours_weekdays = data['Hours of internet use on weekdays'].value_counts()\n",
    "hours_weekdays"
   ]
  },
  {
   "cell_type": "code",
   "execution_count": 139,
   "metadata": {},
   "outputs": [
    {
     "data": {
      "text/plain": [
       "Text(0,0.5,'Counts of Hours of internet use on weekdays')"
      ]
     },
     "execution_count": 139,
     "metadata": {},
     "output_type": "execute_result"
    },
    {
     "data": {
      "image/png": "[encoded data removed]",
      "text/plain": [
       "<matplotlib.figure.Figure at 0x11d5a83c8>"
      ]
     },
     "metadata": {},
     "output_type": "display_data"
    }
   ],
   "source": [
    "plt.figure(figsize = (10,7))\n",
    "gen_happiness = data['Hours of internet use on weekdays'].value_counts().plot(kind='bar')\n",
    "plt.title(\"Counts of Responses for Hours of internet use on weekdays\")\n",
    "plt.xlabel(\"Reponses\")\n",
    "plt.ylabel(\"Counts of Hours of internet use on weekdays\")"
   ]
  },
  {
   "cell_type": "markdown",
   "metadata": {},
   "source": [
    "#### Examining `Hours of Internet use on Weekends`:"
   ]
  },
  {
   "cell_type": "code",
   "execution_count": 146,
   "metadata": {},
   "outputs": [
    {
     "data": {
      "text/plain": [
       "0             1630\n",
       "1              329\n",
       "2              241\n",
       "0              189\n",
       "3              136\n",
       "4              115\n",
       "5               61\n",
       "6               39\n",
       "10              24\n",
       "12              22\n",
       "8               20\n",
       "No answer       11\n",
       "Don't know      10\n",
       "7                8\n",
       "24               7\n",
       "20               7\n",
       "15               6\n",
       "14               6\n",
       "13               3\n",
       "9                2\n",
       "18               1\n",
       "Name: Hours of internet use on weekends, dtype: int64"
      ]
     },
     "execution_count": 146,
     "metadata": {},
     "output_type": "execute_result"
    }
   ],
   "source": [
    "internet_weekends = data['Hours of internet use on weekends'].value_counts()\n",
    "internet_weekends"
   ]
  },
  {
   "cell_type": "code",
   "execution_count": 147,
   "metadata": {},
   "outputs": [
    {
     "data": {
      "text/plain": [
       "Text(0,0.5,'Counts of Hours of internet use on weekends')"
      ]
     },
     "execution_count": 147,
     "metadata": {},
     "output_type": "execute_result"
    },
    {
     "data": {
      "image/png": "[encoded data removed]",
      "text/plain": [
       "<matplotlib.figure.Figure at 0x1210d49e8>"
      ]
     },
     "metadata": {},
     "output_type": "display_data"
    }
   ],
   "source": [
    "plt.figure(figsize = (10,7))\n",
    "gen_happiness = data['Hours of internet use on weekends'].value_counts().plot(kind='bar')\n",
    "plt.title(\"Counts of Responses for Hours of internet use on weekends\")\n",
    "plt.xlabel(\"Reponses\")\n",
    "plt.ylabel(\"Counts of Hours of internet use on weekends\")"
   ]
  },
  {
   "cell_type": "markdown",
   "metadata": {},
   "source": [
    "## References\n",
    "https://worlddatabaseofhappiness.eur.nl/hap_bib/freetexts/magnus_k_1991.pdf\n",
    "\n",
    "https://link.springer.com/journal/10902\n",
    "\n",
    "https://ac.els-cdn.com/S1877042814057371/1-s2.0-S1877042814057371-main.pdf?_tid=7451ee27-f066-4f64-9ae7-6999505099ed&acdnat=1522891230_af0554a68d3b762db02e10a5e48eaa3f\n",
    "\n",
    "http://gss.norc.org/About-The-GSS\n",
    "\n",
    "http://gss.norc.org/Documents/reports/topical-reports/TR14.pdf"
   ]
  },
  {
   "cell_type": "code",
   "execution_count": null,
   "metadata": {},
   "outputs": [],
   "source": []
  }
 ],
 "metadata": {
  "kernelspec": {
   "display_name": "Python 3",
   "language": "python",
   "name": "python3"
  },
  "language_info": {
   "codemirror_mode": {
    "name": "ipython",
    "version": 3
   },
   "file_extension": ".py",
   "mimetype": "text/x-python",
   "name": "python",
   "nbconvert_exporter": "python",
   "pygments_lexer": "ipython3",
   "version": "3.6.4"
  }
 },
 "nbformat": 4,
 "nbformat_minor": 2
}
